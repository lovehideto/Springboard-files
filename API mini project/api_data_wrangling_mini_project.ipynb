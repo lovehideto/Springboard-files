{
 "cells": [
  {
   "cell_type": "markdown",
   "id": "a4b6ab76",
   "metadata": {},
   "source": [
    "This exercise will require you to pull some data from https://data.nasdaq.com/ (formerly Quandl API).\n",
    "\n",
    "As a first step, you will need to register a free account on the https://data.nasdaq.com/ website.\n",
    "\n",
    "After you register, you will be provided with a unique API key, that you should store:\n",
    "\n",
    "Note: Use a `.env` file and put your key in there and `python-dotenv` to access it in this notebook.\n",
    "\n",
    "The code below uses a key that was used when generating this project but has since been deleted. Never submit your keys to source control. There is a `.env-example` file in this repository to illusrtate what you need. Copy that to a file called `.env` and use your own api key in that `.env` file. Make sure you also have a `.gitignore` file with a line for `.env` added to it.\n",
    "\n",
    "The standard Python gitignore is here you can just copy that."
   ]
  },
  {
   "cell_type": "code",
   "execution_count": 114,
   "id": "152c2c34",
   "metadata": {},
   "outputs": [
    {
     "name": "stdout",
     "output_type": "stream",
     "text": [
      "None\n"
     ]
    }
   ],
   "source": [
    "# get api key from your .env file\n",
    "import os\n",
    "from dotenv import load_dotenv\n",
    "\n",
    "load_dotenv()\n",
    "API_KEY = os.getenv('NASDAQ_API_KEY')\n",
    "\n",
    "print(API_KEY)"
   ]
  },
  {
   "cell_type": "markdown",
   "id": "f52514ff",
   "metadata": {},
   "source": [
    "Nasdaq Data has a large number of data sources, but, unfortunately, most of them require a Premium subscription. Still, there are also a good number of free datasets.\n",
    "\n",
    "For this mini project, we will focus on equities data from the Frankfurt Stock Exhange (FSE), which is available for free. We'll try and analyze the stock prices of a company called Carl Zeiss Meditec, which manufactures tools for eye examinations, as well as medical lasers for laser eye surgery: https://www.zeiss.com/meditec/int/home.html. The company is listed under the stock ticker AFX_X.\n",
    "\n",
    "You can find the detailed Nasdaq Data API instructions here: https://docs.data.nasdaq.com/docs/in-depth-usage\n",
    "\n",
    "While there is a dedicated Python package for connecting to the Nasdaq API, we would prefer that you use the requests package, which can be easily downloaded using pip or conda. You can find the documentation for the package here: http://docs.python-requests.org/en/master/\n",
    "\n",
    "Finally, apart from the requests package, you are encouraged to not use any third party Python packages, such as pandas, and instead focus on what's available in the Python Standard Library (the collections module might come in handy: https://pymotw.com/3/collections/). Also, since you won't have access to DataFrames, you are encouraged to us Python's native data structures - preferably dictionaries, though some questions can also be answered using lists. You can read more on these data structures here: https://docs.python.org/3/tutorial/datastructures.html\n",
    "\n",
    "Keep in mind that the JSON responses you will be getting from the API map almost one-to-one to Python's dictionaries. Unfortunately, they can be very nested, so make sure you read up on indexing dictionaries in the documentation provided above."
   ]
  },
  {
   "cell_type": "code",
   "execution_count": 2,
   "id": "1001013b",
   "metadata": {},
   "outputs": [],
   "source": [
    "# First, import the relevant modules\n",
    "import requests\n"
   ]
  },
  {
   "cell_type": "markdown",
   "id": "733bcade",
   "metadata": {},
   "source": [
    "Note: API's can change a bit with each version, for this exercise it is reccomended to use the nasdaq api at `https://data.nasdaq.com/api/v3/`. This is the same api as what used to be quandl so `https://www.quandl.com/api/v3/` should work too.\n",
    "\n",
    "Hint: We are looking for the `AFX_X` data on the `datasets/FSE/` dataset."
   ]
  },
  {
   "cell_type": "code",
   "execution_count": 12,
   "id": "10efbc14",
   "metadata": {},
   "outputs": [],
   "source": [
    "# Now, call the Nasdaq API and pull out a small sample of the data (only one day) to get a glimpse\n",
    "# into the JSON structure that will be returned\n",
    "url='https://data.nasdaq.com/api/v3/datasets/FSE/AFX_X.json?start_date=2022-01-01&end_date=2022-01-01&api_key=myapikey'"
   ]
  },
  {
   "cell_type": "code",
   "execution_count": 20,
   "id": "b62cad50",
   "metadata": {},
   "outputs": [
    {
     "data": {
      "text/plain": [
       "{'dataset': {'id': 10095370,\n",
       "  'dataset_code': 'AFX_X',\n",
       "  'database_code': 'FSE',\n",
       "  'name': 'Carl Zeiss Meditec (AFX_X)',\n",
       "  'description': 'Stock Prices for Carl Zeiss Meditec (2020-11-02) from the Frankfurt Stock Exchange.<br><br>Trading System: Xetra<br><br>ISIN: DE0005313704',\n",
       "  'refreshed_at': '2020-12-01T14:48:09.907Z',\n",
       "  'newest_available_date': '2020-12-01',\n",
       "  'oldest_available_date': '2000-06-07',\n",
       "  'column_names': ['Date',\n",
       "   'Open',\n",
       "   'High',\n",
       "   'Low',\n",
       "   'Close',\n",
       "   'Change',\n",
       "   'Traded Volume',\n",
       "   'Turnover',\n",
       "   'Last Price of the Day',\n",
       "   'Daily Traded Units',\n",
       "   'Daily Turnover'],\n",
       "  'frequency': 'daily',\n",
       "  'type': 'Time Series',\n",
       "  'premium': False,\n",
       "  'limit': None,\n",
       "  'transform': None,\n",
       "  'column_index': None,\n",
       "  'start_date': '2022-01-01',\n",
       "  'end_date': '2020-12-01',\n",
       "  'data': [],\n",
       "  'collapse': None,\n",
       "  'order': None,\n",
       "  'database_id': 6129}}"
      ]
     },
     "execution_count": 20,
     "metadata": {},
     "output_type": "execute_result"
    }
   ],
   "source": [
    "# Inspect the JSON structure of the object you created, and take note of how nested it is,\n",
    "# as well as the overall structure\n",
    "r=requests.get(url)\n",
    "\n",
    "# Decode the JSON data into a dictionary: json_data\n",
    "\n",
    "json_data=r.json()\n",
    "json_data"
   ]
  },
  {
   "cell_type": "markdown",
   "id": "b822f85c",
   "metadata": {},
   "source": [
    "These are your tasks for this mini project:\n",
    "\n",
    " 1. Collect data from the Franfurt Stock Exchange, for the ticker AFX_X, for the whole year 2017 (keep in mind that the date format is YYYY-MM-DD).  \n",
    " 2. Convert the returned JSON object into a Python dictionary.  \n",
    " 3. Calculate what the highest and lowest opening prices were for the stock in this period.  \n",
    " 4. What was the largest change in any one day (based on High and Low price)?  \n",
    " 5. What was the largest change between any two days (based on Closing Price)?  \n",
    " 6. What was the average daily trading volume during this year?  \n",
    " 7. (Optional) What was the median trading volume during this year. (Note: you may need to implement your own function for calculating the median.)  "
   ]
  },
  {
   "cell_type": "markdown",
   "id": "f98dbffe",
   "metadata": {},
   "source": [
    "1. Collect data from the Franfurt Stock Exchange, for the ticker AFX_X, for the whole year 2017 (keep in mind that the date format is YYYY-MM-DD)."
   ]
  },
  {
   "cell_type": "code",
   "execution_count": 104,
   "id": "a36ee110",
   "metadata": {},
   "outputs": [],
   "source": [
    "#data url\n",
    "curl='https://data.nasdaq.com/api/v3/datasets/FSE/AFX_X.json?start_date=2017-01-01&end_date=2017-12-31&api_key=duFd91ruP4sQaRWJYTcy'\n",
    "# Package the request, send the request and catch the response: r\n",
    "r1=requests.get(curl)"
   ]
  },
  {
   "cell_type": "markdown",
   "id": "b22cd5d2",
   "metadata": {},
   "source": [
    "2. Convert the returned JSON object into a Python dictionary."
   ]
  },
  {
   "cell_type": "code",
   "execution_count": 105,
   "id": "e1dab50a",
   "metadata": {},
   "outputs": [],
   "source": [
    "# Decode the JSON data into a dictionary: json_data\n",
    "json_data=r1.json()"
   ]
  },
  {
   "cell_type": "code",
   "execution_count": 108,
   "id": "7453801e",
   "metadata": {},
   "outputs": [
    {
     "data": {
      "text/plain": [
       "['Date',\n",
       " 'Open',\n",
       " 'High',\n",
       " 'Low',\n",
       " 'Close',\n",
       " 'Change',\n",
       " 'Traded Volume',\n",
       " 'Turnover',\n",
       " 'Last Price of the Day',\n",
       " 'Daily Traded Units',\n",
       " 'Daily Turnover']"
      ]
     },
     "execution_count": 108,
     "metadata": {},
     "output_type": "execute_result"
    }
   ],
   "source": [
    "col_names=json_data['dataset']['column_names']\n",
    "data=json_data['dataset']['data']\n",
    "col_names"
   ]
  },
  {
   "cell_type": "markdown",
   "id": "af1cce84",
   "metadata": {},
   "source": [
    "3. Calculate what the highest and lowest opening prices were for the stock in this period."
   ]
  },
  {
   "cell_type": "code",
   "execution_count": 109,
   "id": "82fedc58",
   "metadata": {},
   "outputs": [
    {
     "name": "stdout",
     "output_type": "stream",
     "text": [
      "The highest opening price in this period is :  53.11\n",
      "The lowest opening price in this period is :  34.0\n"
     ]
    }
   ],
   "source": [
    "open_prices=[]\n",
    "for l in data:\n",
    "    open_prices.append(l[1])\n",
    "print('The highest opening price in this period is : ',max(x for x in open_prices if x is not None))\n",
    "print('The lowest opening price in this period is : ',min(x for x in open_prices if x is not None))\n"
   ]
  },
  {
   "cell_type": "markdown",
   "id": "2c8b464f",
   "metadata": {},
   "source": [
    "4. What was the largest change in any one day (based on High and Low price)?"
   ]
  },
  {
   "cell_type": "code",
   "execution_count": 110,
   "id": "66681dfd",
   "metadata": {},
   "outputs": [
    {
     "name": "stdout",
     "output_type": "stream",
     "text": [
      "The largest change in one day  (based on High and Low price) is  2.8100000000000023\n"
     ]
    }
   ],
   "source": [
    "a=[]\n",
    "for l in data:\n",
    "    a.append(l[2]-l[3])\n",
    "print('The largest change in one day  (based on High and Low price) is ', max(a))"
   ]
  },
  {
   "cell_type": "markdown",
   "id": "78dbe521",
   "metadata": {},
   "source": [
    "5. What was the largest change between any two days (based on Closing Price)?"
   ]
  },
  {
   "cell_type": "code",
   "execution_count": 111,
   "id": "e06e8127",
   "metadata": {},
   "outputs": [
    {
     "name": "stdout",
     "output_type": "stream",
     "text": [
      "The largest change in one day  (based on Closing Price) is  2.559999999999995\n"
     ]
    }
   ],
   "source": [
    "close_price=[]\n",
    "for l in data:\n",
    "    close_price.append(l[4])\n",
    "    close_change=[]\n",
    "    for i in range(len(close_price)):\n",
    "        if i>=1:\n",
    "            close_change.append(abs(close_price[i]-close_price[i-1]))\n",
    "print('The largest change in one day  (based on Closing Price) is ', max(close_change))"
   ]
  },
  {
   "cell_type": "markdown",
   "id": "e802d65f",
   "metadata": {},
   "source": [
    "6. What was the average daily trading volume during this year?\n"
   ]
  },
  {
   "cell_type": "code",
   "execution_count": 112,
   "id": "9d556b59",
   "metadata": {},
   "outputs": [
    {
     "name": "stdout",
     "output_type": "stream",
     "text": [
      "The average daily trading volume during this year is  89124.33725490196\n"
     ]
    }
   ],
   "source": [
    "trading_volume=[]\n",
    "for l in data:\n",
    "    trading_volume.append(l[6])\n",
    "print('The average daily trading volume during this year is ', sum(trading_volume)/len(trading_volume))"
   ]
  },
  {
   "cell_type": "markdown",
   "id": "35af572e",
   "metadata": {},
   "source": [
    "7. (Optional) What was the median trading volume during this year. (Note: you may need to implement your own function for calculating the median.)"
   ]
  },
  {
   "cell_type": "code",
   "execution_count": 113,
   "id": "783552b6",
   "metadata": {},
   "outputs": [
    {
     "name": "stdout",
     "output_type": "stream",
     "text": [
      "The median trading volume during this year is :  76286.0\n"
     ]
    }
   ],
   "source": [
    "def median(l):\n",
    "    n = len(l)\n",
    "    l.sort()\n",
    "    if n % 2 == 0:\n",
    "        median1 = l[n//2]\n",
    "        median2 = l[n//2 - 1]\n",
    "        median = (median1 + median2)/2\n",
    "    else:\n",
    "        median = l[n//2]\n",
    "    return(median)\n",
    "print('The median trading volume during this year is : ',median(trading_volume))"
   ]
  }
 ],
 "metadata": {
  "kernelspec": {
   "display_name": "Python 3 (ipykernel)",
   "language": "python",
   "name": "python3"
  },
  "language_info": {
   "codemirror_mode": {
    "name": "ipython",
    "version": 3
   },
   "file_extension": ".py",
   "mimetype": "text/x-python",
   "name": "python",
   "nbconvert_exporter": "python",
   "pygments_lexer": "ipython3",
   "version": "3.9.13"
  }
 },
 "nbformat": 4,
 "nbformat_minor": 5
}
